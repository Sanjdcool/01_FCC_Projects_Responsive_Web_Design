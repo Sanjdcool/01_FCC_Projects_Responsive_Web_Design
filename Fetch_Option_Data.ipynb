{
  "nbformat": 4,
  "nbformat_minor": 0,
  "metadata": {
    "colab": {
      "provenance": [],
      "authorship_tag": "ABX9TyMxXnx4jY/nO+08jZXeAbJo",
      "include_colab_link": true
    },
    "kernelspec": {
      "name": "python3",
      "display_name": "Python 3"
    },
    "language_info": {
      "name": "python"
    }
  },
  "cells": [
    {
      "cell_type": "markdown",
      "metadata": {
        "id": "view-in-github",
        "colab_type": "text"
      },
      "source": [
        "<a href=\"https://colab.research.google.com/github/Sanjdcool/01_FCC_Projects_Responsive_Web_Design/blob/master/Fetch_Option_Data.ipynb\" target=\"_parent\"><img src=\"https://colab.research.google.com/assets/colab-badge.svg\" alt=\"Open In Colab\"/></a>"
      ]
    },
    {
      "cell_type": "code",
      "execution_count": null,
      "metadata": {
        "id": "tsEyWh_ACoMH"
      },
      "outputs": [],
      "source": [
        "import requests\n",
        "import pandas as pd\n",
        "\n",
        "class OptionChain():\n",
        "    def __init__(self, symbol='NIFTY', timeout=5) -> None:\n",
        "        self.__url = \"https://www.nseindia.com/api/option-chain-indices?symbol={}\".format(symbol)\n",
        "        self.__session = requests.sessions.Session()\n",
        "        self.__session.headers = { \"User-Agent\": \"Mozilla/5.0 (X11; Ubuntu; Linux x86_64; rv:102.0) Gecko/20100101 Firefox/102.0\", \"Accept\": \"*/*\", \"Accept-Language\": \"en-US,en;q=0.5\" }\n",
        "        self.__timeout = timeout\n",
        "        self.__session.get(\"https://www.nseindia.com/option-chain\", timeout=self.__timeout)\n",
        "\n",
        "    def fetch_data(self, expiry_date=None, starting_strike_price=None, number_of_rows=2):\n",
        "        try:\n",
        "            data = self.__session.get(url=self.__url, timeout=self.__timeout)\n",
        "            data = data.json()\n",
        "            df = pd.json_normalize(data['records']['data'])\n",
        "\n",
        "            if expiry_date != None:\n",
        "                df = df[(df.expiryDate == expiry_date)]\n",
        "\n",
        "            if starting_strike_price != None:\n",
        "                df = df[(df.strikePrice >= starting_strike_price)][:number_of_rows]\n",
        "\n",
        "            return df\n",
        "        except Exception as ex:\n",
        "            print('Error: {}'.format(ex))\n",
        "            self.__session.get(\"https://www.nseindia.com/option-chain\", timeout=self.__timeout)\n",
        "\n",
        "\n",
        "\n",
        "if __name__ == '__main__':\n",
        "    oc = OptionChain()\n",
        "    print(oc.fetch_data(expiry_date='04-Apr-2024', starting_strike_price=22200).iloc[0])"
      ]
    }
  ]
}